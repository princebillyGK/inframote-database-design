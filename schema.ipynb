{
    "metadata": {
        "kernelspec": {
            "name": "SQL",
            "display_name": "SQL",
            "language": "sql"
        },
        "language_info": {
            "name": "sql",
            "version": ""
        }
    },
    "nbformat_minor": 2,
    "nbformat": 4,
    "cells": [
        {
            "cell_type": "markdown",
            "source": [
                "# User:\r\n",
                "Any consumer who will create account on our application."
            ],
            "metadata": {
                "azdata_cell_guid": "afc5f0c6-e327-41f5-abd1-8149d232f8ee"
            },
            "attachments": {}
        },
        {
            "cell_type": "code",
            "source": [
                "CREATE TABLE IF NOT EXISTS usr (\r\n",
                "    id BIGSERIAL PRIMARY KEY,\r\n",
                "    first_name VARCHAR(35) NOT NULL,\r\n",
                "    last_name VARCHAR(35) NOT NULL,\r\n",
                "    contact_email VARCHAR(255) UNIQUE NOT NULL,\r\n",
                "    bio VARCHAR(1024),\r\n",
                "    website_url VARCHAR(255),\r\n",
                "    image_url VARCHAR(255),\r\n",
                "    allow_marketing_mail BOOLEAN\r\n",
                ");"
            ],
            "metadata": {
                "azdata_cell_guid": "59f34edc-c152-488b-af1b-5b1979db2548",
                "language": "sql",
                "tags": []
            },
            "outputs": [
                {
                    "output_type": "display_data",
                    "data": {
                        "text/html": "Commands completed successfully"
                    },
                    "metadata": {}
                },
                {
                    "output_type": "display_data",
                    "data": {
                        "text/html": "Total execution time: 00:00:00.830"
                    },
                    "metadata": {}
                }
            ],
            "execution_count": 2
        },
        {
            "cell_type": "markdown",
            "source": [
                "## User Authentication:\n",
                "\n",
                "(Email)"
            ],
            "metadata": {
                "language": "sql",
                "azdata_cell_guid": "d5730fe9-203d-4d92-a881-44e60f17c98c"
            },
            "attachments": {}
        },
        {
            "cell_type": "code",
            "source": [
                "CREATE TABLE IF NOT EXISTS usr_email_auth (\r\n",
                "    email VARCHAR(255) PRIMARY KEY,\r\n",
                "    pass VARCHAR(512) NOT NULL,\r\n",
                "    usr_id BIGINT NOT NULL,\r\n",
                "    FOREIGN KEY (usr_id) REFERENCES usr(id) ON DELETE CASCADE ON UPDATE CASCADE\r\n",
                ")"
            ],
            "metadata": {
                "language": "sql",
                "azdata_cell_guid": "1431f047-fc5a-400e-b4ae-5803a2a655d1"
            },
            "outputs": [
                {
                    "output_type": "display_data",
                    "data": {
                        "text/html": "Commands completed successfully"
                    },
                    "metadata": {}
                },
                {
                    "output_type": "display_data",
                    "data": {
                        "text/html": "Total execution time: 00:00:00.760"
                    },
                    "metadata": {}
                }
            ],
            "execution_count": 7
        },
        {
            "cell_type": "markdown",
            "source": [
                "(Google)"
            ],
            "metadata": {
                "language": "sql",
                "azdata_cell_guid": "e793dd1a-f3d4-431f-8cf2-78e833f2d9f9"
            },
            "attachments": {}
        },
        {
            "cell_type": "code",
            "source": [
                "CREATE TABLE IF NOT EXISTS usr_google_auth (\r\n",
                "    account_id VARCHAR(255) PRIMARY KEY,\r\n",
                "    email VARCHAR(255) NOT NULL,\r\n",
                "    usr_id BIGINT NOT NULL,\r\n",
                "    FOREIGN KEY (usr_id) REFERENCES usr(id) ON DELETE CASCADE ON UPDATE CASCADE\r\n",
                ")"
            ],
            "metadata": {
                "language": "sql",
                "azdata_cell_guid": "428191ab-c292-472a-be1c-dc5408da2d10",
                "tags": []
            },
            "outputs": [
                {
                    "output_type": "display_data",
                    "data": {
                        "text/html": "Commands completed successfully"
                    },
                    "metadata": {}
                },
                {
                    "output_type": "display_data",
                    "data": {
                        "text/html": "Total execution time: 00:00:00.293"
                    },
                    "metadata": {}
                }
            ],
            "execution_count": 10
        },
        {
            "cell_type": "markdown",
            "source": [
                "(Facebook)"
            ],
            "metadata": {
                "azdata_cell_guid": "59a31234-325a-4506-b622-b5f9b043ffb9"
            },
            "attachments": {}
        },
        {
            "cell_type": "code",
            "source": [
                "CREATE TABLE IF NOT EXISTS usr_facebook_auth (\r\n",
                "    account_id VARCHAR(255) PRIMARY KEY,\r\n",
                "    usr_id BIGINT NOT NULL,\r\n",
                "    FOREIGN KEY (usr_id) REFERENCES usr(id) ON DELETE CASCADE ON UPDATE CASCADE\r\n",
                ")"
            ],
            "metadata": {
                "azdata_cell_guid": "7d9479f1-6976-4bf1-a1a7-d3a2b02a90b5",
                "language": "sql"
            },
            "outputs": [
                {
                    "output_type": "display_data",
                    "data": {
                        "text/html": "Commands completed successfully"
                    },
                    "metadata": {}
                },
                {
                    "output_type": "display_data",
                    "data": {
                        "text/html": "Total execution time: 00:00:00.422"
                    },
                    "metadata": {}
                }
            ],
            "execution_count": 11
        },
        {
            "cell_type": "markdown",
            "source": [
                "# Remote\r\n",
                "## Manufacturer:\r\n",
                "Device Manufacturer"
            ],
            "metadata": {
                "language": "sql",
                "azdata_cell_guid": "8c1776ad-9c33-4b2f-b389-a66dbbcd412c"
            },
            "attachments": {}
        },
        {
            "cell_type": "code",
            "source": [
                "CREATE TABLE manufacturer (\r\n",
                "    id BIGSERIAL PRIMARY KEY,\r\n",
                "    title VARCHAR(35) NOT NULL\r\n",
                ")"
            ],
            "metadata": {
                "language": "sql",
                "azdata_cell_guid": "62b2afdf-b187-43e9-97da-823575884110"
            },
            "outputs": [
                {
                    "output_type": "display_data",
                    "data": {
                        "text/html": "Commands completed successfully"
                    },
                    "metadata": {}
                },
                {
                    "output_type": "display_data",
                    "data": {
                        "text/html": "Total execution time: 00:00:00.482"
                    },
                    "metadata": {}
                }
            ],
            "execution_count": 12
        },
        {
            "cell_type": "markdown",
            "source": [
                "## Device\r\n",
                "Device Type"
            ],
            "metadata": {
                "language": "sql",
                "azdata_cell_guid": "90442513-5396-4de3-ab86-c46baf56ac2e"
            },
            "attachments": {}
        },
        {
            "cell_type": "code",
            "source": [
                "CREATE TABLE device (\r\n",
                "    id SERIAL PRIMARY KEY,\r\n",
                "    title VARCHAR(35) NOT NULL,\r\n",
                "    logo_url VARCHAR(255) NOT NULL,\r\n",
                "    short_description VARCHAR(60) NOT NULL\r\n",
                ")"
            ],
            "metadata": {
                "language": "sql",
                "azdata_cell_guid": "e1c15b58-b9e5-4f53-8d0f-1c8cbccfc0f4"
            },
            "outputs": [
                {
                    "output_type": "error",
                    "ename": "",
                    "evalue": "relation \"device\" already exists",
                    "traceback": []
                },
                {
                    "output_type": "display_data",
                    "data": {
                        "text/html": "Total execution time: 00:00:00.364"
                    },
                    "metadata": {}
                }
            ],
            "execution_count": 17
        },
        {
            "cell_type": "markdown",
            "source": [
                "## Remote Controller\n",
                "\n",
                "Remote data"
            ],
            "metadata": {
                "language": "sql",
                "azdata_cell_guid": "dfdaed65-65c8-444a-a665-e865bbe7efa3"
            },
            "attachments": {}
        },
        {
            "cell_type": "code",
            "source": [
                "CREATE TABLE remote_controller (\r\n",
                "    id BIGSERIAL PRIMARY KEY,\r\n",
                "    usr_id BIGINT NOT NULL,\r\n",
                "    manufacturer_id BIGINT NOT NULL,\r\n",
                "    device_id INT NOT NULL,\r\n",
                "    device_name VARCHAR(35) UNIQUE NOT NULL,\r\n",
                "    config text NOT NULL,\r\n",
                "    FOREIGN KEY (usr_id) REFERENCES usr(id) ON DELETE CASCADE ON UPDATE CASCADE,\r\n",
                "    FOREIGN KEY (manufacturer_id) REFERENCES manufacturer(id) ON DELETE RESTRICT ON UPDATE CASCADE,\r\n",
                "    FOREIGN KEY (device_id) REFERENCES device(id) ON DELETE RESTRICT ON UPDATE CASCADE\r\n",
                ")\r\n",
                ""
            ],
            "metadata": {
                "language": "sql",
                "azdata_cell_guid": "a7cd74d2-0654-4fcc-a6d0-72a86bcbc12f",
                "tags": []
            },
            "outputs": [
                {
                    "output_type": "display_data",
                    "data": {
                        "text/html": "Commands completed successfully"
                    },
                    "metadata": {}
                },
                {
                    "output_type": "display_data",
                    "data": {
                        "text/html": "Total execution time: 00:00:00.448"
                    },
                    "metadata": {}
                }
            ],
            "execution_count": 19
        },
        {
            "cell_type": "markdown",
            "source": [
                "## Issues to reported to contributor"
            ],
            "metadata": {
                "language": "sql",
                "azdata_cell_guid": "1f6e639a-d440-42cd-97f6-6c19c8ecd60d"
            },
            "attachments": {}
        },
        {
            "cell_type": "code",
            "source": [
                "CREATE TABLE IF NOT EXISTS issues (\r\n",
                "    id BIGSERIAL PRIMARY KEY,\r\n",
                "    issuer_id BIGINT NOT NULL,\r\n",
                "    remote_controller_id BIGINT NOT NULL,\r\n",
                "    title VARCHAR(128) NOT NULL,\r\n",
                "    details TEXT NOT NULL,\r\n",
                "    is_open BOOL NOT NULL default true,\r\n",
                "    FOREIGN KEY (issuer_id) REFERENCES usr(id) ON UPDATE CASCADE ON DELETE RESTRICT,\r\n",
                "    FOREIGN KEY (remote_controller_id) REFERENCES remote_controller(id) ON DELETE CASCADE ON UPDATE CASCADE\r\n",
                ");"
            ],
            "metadata": {
                "language": "sql",
                "azdata_cell_guid": "dd6d18de-673c-4fdd-9765-c8d893e3aaac"
            },
            "outputs": [
                {
                    "output_type": "display_data",
                    "data": {
                        "text/html": "Commands completed successfully"
                    },
                    "metadata": {}
                },
                {
                    "output_type": "display_data",
                    "data": {
                        "text/html": "Total execution time: 00:00:12.887"
                    },
                    "metadata": {}
                }
            ],
            "execution_count": 4
        },
        {
            "cell_type": "markdown",
            "source": [
                "# Super User\n",
                "\n",
                "The super user of the application who controls every thing"
            ],
            "metadata": {
                "language": "sql",
                "azdata_cell_guid": "0549d7e4-ba94-46f2-a354-c91029f70e3b"
            },
            "attachments": {}
        },
        {
            "cell_type": "code",
            "source": [
                "CREATE TABLE IF NOT EXISTS su (\r\n",
                "    id BIGINT PRIMARY KEY,\r\n",
                "    first_name VARCHAR(35) NOT NULL,\r\n",
                "    last_name VARCHAR(35) NOT NULL,\r\n",
                "    phone VARCHAR(20) NOT NULL\r\n",
                ");\r\n",
                ""
            ],
            "metadata": {
                "language": "sql",
                "azdata_cell_guid": "ccfa100a-6505-4ae7-a542-e245e1d25184",
                "tags": []
            },
            "outputs": [
                {
                    "output_type": "display_data",
                    "data": {
                        "text/html": "Commands completed successfully"
                    },
                    "metadata": {}
                },
                {
                    "output_type": "display_data",
                    "data": {
                        "text/html": "Total execution time: 00:00:01.658"
                    },
                    "metadata": {}
                }
            ],
            "execution_count": 2
        },
        {
            "cell_type": "markdown",
            "source": [
                "## Report on User\n",
                "\n",
                "This reports are seen by only super user."
            ],
            "metadata": {
                "language": "sql",
                "azdata_cell_guid": "440a3e91-9b44-43da-93ee-101d80409fd4"
            },
            "attachments": {}
        },
        {
            "cell_type": "code",
            "source": [
                "CREATE TABLE IF NOT EXISTS reported_usr (\r\n",
                "    id BIGSERIAL PRIMARY KEY,\r\n",
                "    issuer_id BIGINT NOT NULL,\r\n",
                "    reported_usr_id BIGINT NOT NULL,\r\n",
                "    title VARCHAR(128) NOT NULL,\r\n",
                "    details TEXT NOT NULL,\r\n",
                "    is_active BOOL NOT NULL default true,\r\n",
                "    FOREIGN KEY (issuer_id) REFERENCES usr(id) ON UPDATE CASCADE ON DELETE RESTRICT,\r\n",
                "    FOREIGN KEY (reported_usr_id) REFERENCES usr(id) ON DELETE CASCADE ON UPDATE CASCADE\r\n",
                ")"
            ],
            "metadata": {
                "language": "sql",
                "azdata_cell_guid": "647d1e09-3a6d-4214-a049-870bd76cada3",
                "tags": []
            },
            "outputs": [
                {
                    "output_type": "display_data",
                    "data": {
                        "text/html": "Commands completed successfully"
                    },
                    "metadata": {}
                },
                {
                    "output_type": "display_data",
                    "data": {
                        "text/html": "Total execution time: 00:00:02.248"
                    },
                    "metadata": {}
                }
            ],
            "execution_count": 6
        },
        {
            "cell_type": "markdown",
            "source": [
                "## Report on Remote\n",
                "\n",
                "This reports are seen by only super user"
            ],
            "metadata": {
                "language": "sql",
                "azdata_cell_guid": "813e041b-8ce3-4c92-9b98-53735be8f13b"
            },
            "attachments": {}
        },
        {
            "cell_type": "code",
            "source": [
                "CREATE TABLE IF NOT EXISTS report (\r\n",
                "    id BIGSERIAL PRIMARY KEY,\r\n",
                "    issuer_id BIGINT NOT NULL,\r\n",
                "    remote_controller_id BIGINT NOT NULL,\r\n",
                "    title VARCHAR(128) NOT NULL,\r\n",
                "    details TEXT NOT NULL,\r\n",
                "    is_active BOOL NOT NULL default true,\r\n",
                "    FOREIGN KEY (issuer_id) REFERENCES usr(id) ON UPDATE CASCADE ON DELETE RESTRICT,\r\n",
                "    FOREIGN KEY (remote_controller_id) REFERENCES remote_controller(id) ON DELETE CASCADE ON UPDATE CASCADE\r\n",
                ")"
            ],
            "metadata": {
                "language": "sql",
                "azdata_cell_guid": "d3d8f68c-d79c-4ed3-8ffc-289f0f2820a8",
                "tags": []
            },
            "outputs": [
                {
                    "output_type": "display_data",
                    "data": {
                        "text/html": "Commands completed successfully"
                    },
                    "metadata": {}
                },
                {
                    "output_type": "display_data",
                    "data": {
                        "text/html": "Total execution time: 00:00:00.810"
                    },
                    "metadata": {}
                }
            ],
            "execution_count": 7
        }
    ]
}